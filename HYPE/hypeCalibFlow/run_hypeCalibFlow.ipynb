{
 "cells": [
  {
   "cell_type": "markdown",
   "metadata": {},
   "source": [
    "# Create the Ostin calibration setup for the hype modelling framework\n",
    "This script creates an Ostin setup to calibrate HYPE. The user needs the following to run this notebook successfully.\n",
    "1. A working HYPE setup with all necessary files.\n",
    "2. Information on the objective function and optimization algorithm (see `Define inputs` section below).\n",
    "3. A file containing the required calibration parameters range and dependency in the following format (a sample file is included with the notebook [HYPE_MinMaxParamRange.txt](HYPE_MinMaxParamRange.txt)).\n",
    "\n",
    "Name\t    |    min\t|    max\t|  dependency\t| description [units] |\n",
    "| --------- | --------- | --------- | ------------- | ------------------------------------------------------------------------- |\n",
    "rivvel \t    |   0.1\t    |   10\t    |   general \t| Water celerity in river  [ m/s ]\n",
    "damp \t    |   0.1\t    |   0.9\t    |   general \t| Delay and damping coefficient of water  [ - ]\n",
    "rrcs3 \t    |   0\t    |   0.1\t    |   general \t| Slope dependent recession coefficient for the first soil layer  [ 1/day/% ]\n",
    "lp \t        |   0.5\t    |   1\t    |   general \t| Limiting factor for potential evaporation from soil column  [ - ]\n",
    "epotdist    |\t2\t    |   6\t    |   general \t| Coefficient for potential evaporation depth dependency function  [ 1/m ]\n",
    "ttmp \t    |   -3\t    |   3\t    |   landcover\t| Temperature threshold for snowmelt calculations  [ °C ]\n",
    "kc  \t    |   0.4\t    |   1.3\t    |   landcover\t| Crop coefficient for evapotranspiration calculations [ - ]\n",
    "alb \t    |   0.1\t    |   0.5\t    |   landcover\t| Snow albedo  [ - ]\n",
    "cmlt \t    |   1\t    |   10\t    |   landcover\t| Melt factor for snowmelt calculations  [ mm/°C/day ]\n",
    "srrcs \t    |   0.01\t|   0.2\t    |   landcover\t| Surface runoff recession coefficient   [ - ]\n",
    "\n",
    "**Note: the user needs to paste the `OstrichMPI` executable in output_path/ost and run it from there.**"
   ]
  },
  {
   "cell_type": "code",
   "execution_count": 11,
   "metadata": {},
   "outputs": [],
   "source": [
    "from hypeCalibFlow import *"
   ]
  },
  {
   "cell_type": "markdown",
   "metadata": {},
   "source": [
    "# Define inputs"
   ]
  },
  {
   "cell_type": "code",
   "execution_count": 12,
   "metadata": {},
   "outputs": [],
   "source": [
    "# a working hype setup path (base setup that needs to be calibrated)\n",
    "hype_inputs_path = '/Users/mohamed/Documents/Work/Model_Agnostic/model_agnostic_calib/HYPE/runs/Bow_Banff'\n",
    "# required output where the osting files/structure is written\n",
    "output_path      = '/Users/mohamed/Documents/Work/Model_Agnostic/model_agnostic_calib/HYPE/hypeCalibFlow/hypeCalibSetup'\n",
    "# absolute path to file containting parameters range for hype\n",
    "minmaxParamFile  = '/Users/mohamed/Documents/Work/Model_Agnostic/model_agnostic_calib/HYPE/hypeCalibFlow/HYPE_MinMaxParamRange.txt'\n",
    "# path to hype exe\n",
    "hype_exe_path    = 'path/to/hype/exe'\n",
    "\n",
    "# optimization algorithm name (must match program names defined under ProgramType for Ostrich)\n",
    "optimization_param={'opt_algorithm' : 'ParallelDDS',           # currently the only supported algorithm\n",
    "                    'ninter'        : 500,                     # number of iterations\n",
    "# performance metric (objective function) info\n",
    "                    'objFun_name'   : 'KGE',                   # objective function name\n",
    "                    'objFun_file'   : './results/simass.txt',  # provide path to simass.txt (that contains the objective function value) file within the hype run (typically results/simass.txt)\n",
    "                    'objFun_row'    : 31,                      # row (line) number of the obj_fun in the objFun_file\n",
    "                    'objFun_col'    : 3,                       # column number of the obj_fun in the objFun_file\n",
    "                    'objFun_type'   : 'maximize'              # type of objective function (minimize or maximize)\n",
    "}"
   ]
  },
  {
   "cell_type": "markdown",
   "metadata": {},
   "source": [
    "# run hypeCalibFlow"
   ]
  },
  {
   "cell_type": "code",
   "execution_count": 13,
   "metadata": {},
   "outputs": [],
   "source": [
    "# initalize the ostin setup\n",
    "initialize_ostin_setup(hype_inputs_path, output_path)\n",
    "\n",
    "# retrieve hype parameters range\n",
    "param_range = read_HYPE_MinMaxParaRange(minmaxParamFile, hype_inputs_path)\n",
    "\n",
    "#write the ostin file\n",
    "ostin_param = write_ostin_tpl_files(hype_inputs_path, output_path, hype_exe_path, param_range, optimization_param)"
   ]
  },
  {
   "cell_type": "code",
   "execution_count": null,
   "metadata": {},
   "outputs": [],
   "source": []
  }
 ],
 "metadata": {
  "kernelspec": {
   "display_name": "geospatial-env",
   "language": "python",
   "name": "python3"
  },
  "language_info": {
   "codemirror_mode": {
    "name": "ipython",
    "version": 3
   },
   "file_extension": ".py",
   "mimetype": "text/x-python",
   "name": "python",
   "nbconvert_exporter": "python",
   "pygments_lexer": "ipython3",
   "version": "3.9.19"
  }
 },
 "nbformat": 4,
 "nbformat_minor": 2
}
