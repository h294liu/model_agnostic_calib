{
 "cells": [
  {
   "cell_type": "markdown",
   "metadata": {},
   "source": [
    "# Create the Ostin file for the hype modelling framework"
   ]
  },
  {
   "cell_type": "code",
   "execution_count": 1,
   "metadata": {},
   "outputs": [],
   "source": [
    "from hypeCalibFlow import *"
   ]
  },
  {
   "cell_type": "code",
   "execution_count": 4,
   "metadata": {},
   "outputs": [],
   "source": [
    "# a working hype setup path (base setup that needs to be calibrated)\n",
    "hype_inputs_path = '/Users/mohamed/Documents/Work/Model_Agnostic/model_agnostic_calib/HYPE/runs/Bow_Banff'\n",
    "# required output where the osting files/structure is written\n",
    "output_path      = '/Users/mohamed/Documents/Work/Model_Agnostic/model_agnostic_calib/HYPE/hypeCalibFlow/hypeCalibSetup'\n",
    "# absolute path to file containting parameters range for hype\n",
    "minmaxParamFile  = '/Users/mohamed/Documents/Work/Model_Agnostic/model_agnostic_calib/HYPE/hypeCalibFlow/HYPE_MinMaxParamRange.txt'\n",
    "# path to hype exe\n",
    "hype_exe_path    = 'path/to/hype/exe'\n",
    "\n",
    "# initialize optimization related parameters/arguments\n",
    "optimization_param = {}\n",
    "\n",
    "# optimization algorithm name (must match program names defined under ProgramType for Ostrich)\n",
    "optimization_param['opt_algorithm'] = 'ParallelDDS'           # currently the only supported algorithm\n",
    "optimization_param['ninter']        = 500                     # number of iterations\n",
    "\n",
    "# performance metric (objective function) info\n",
    "optimization_param['objFun_name']   = 'KGE'                   # objective function name\n",
    "optimization_param['objFun_file']   = './results/simass.txt'  # provide path to simass.txt (that contains the objective function value) file within the hype run (typically results/simass.txt)\n",
    "optimization_param['objFun_row']    = 31                      # row (line) number of the obj_fun in the objFun_file\n",
    "optimization_param['objFun_col']    = 3                       # column number of the obj_fun in the objFun_file\n",
    "optimization_param['objFun_type']   = 'maximize'              # type of objective function (minimize or maximize)\n",
    "\n",
    "# initalize the ostin setup\n",
    "initialize_ostin_setup(hype_inputs_path, output_path)\n",
    "\n",
    "# retrieve hype parameters range\n",
    "param_range = read_HYPE_MinMaxParaRange(minmaxParamFile, hype_inputs_path)\n",
    "\n",
    "#write the ostin file\n",
    "ostin_param = write_ostin_tpl_files(hype_inputs_path, output_path, hype_exe_path, param_range, optimization_param)"
   ]
  },
  {
   "cell_type": "code",
   "execution_count": null,
   "metadata": {},
   "outputs": [],
   "source": []
  }
 ],
 "metadata": {
  "kernelspec": {
   "display_name": "geospatial-env",
   "language": "python",
   "name": "python3"
  },
  "language_info": {
   "codemirror_mode": {
    "name": "ipython",
    "version": 3
   },
   "file_extension": ".py",
   "mimetype": "text/x-python",
   "name": "python",
   "nbconvert_exporter": "python",
   "pygments_lexer": "ipython3",
   "version": "3.9.19"
  }
 },
 "nbformat": 4,
 "nbformat_minor": 2
}
